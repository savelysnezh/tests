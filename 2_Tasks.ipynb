{
 "cells": [
  {
   "cell_type": "markdown",
   "id": "88444d26-42da-4a0d-88c6-c46925f7b09a",
   "metadata": {},
   "source": [
    "### Техническое задание"
   ]
  },
  {
   "cell_type": "code",
   "execution_count": 1,
   "id": "7f9696e0-b37d-4f30-9125-cc282e2436b7",
   "metadata": {},
   "outputs": [
    {
     "data": {
      "text/html": [
       "<div>\n",
       "<style scoped>\n",
       "    .dataframe tbody tr th:only-of-type {\n",
       "        vertical-align: middle;\n",
       "    }\n",
       "\n",
       "    .dataframe tbody tr th {\n",
       "        vertical-align: top;\n",
       "    }\n",
       "\n",
       "    .dataframe thead th {\n",
       "        text-align: right;\n",
       "    }\n",
       "</style>\n",
       "<table border=\"1\" class=\"dataframe\">\n",
       "  <thead>\n",
       "    <tr style=\"text-align: right;\">\n",
       "      <th></th>\n",
       "      <th>client_id</th>\n",
       "      <th>sum</th>\n",
       "      <th>status</th>\n",
       "      <th>sale</th>\n",
       "      <th>new/current</th>\n",
       "      <th>Unnamed: 5</th>\n",
       "      <th>document</th>\n",
       "      <th>receiving_date</th>\n",
       "    </tr>\n",
       "  </thead>\n",
       "  <tbody>\n",
       "    <tr>\n",
       "      <th>0</th>\n",
       "      <td>NaN</td>\n",
       "      <td>NaN</td>\n",
       "      <td>Май 2021</td>\n",
       "      <td>NaN</td>\n",
       "      <td>NaN</td>\n",
       "      <td>NaN</td>\n",
       "      <td>NaN</td>\n",
       "      <td>NaN</td>\n",
       "    </tr>\n",
       "    <tr>\n",
       "      <th>1</th>\n",
       "      <td>6.0</td>\n",
       "      <td>11693.7</td>\n",
       "      <td>ВНУТРЕННИЙ</td>\n",
       "      <td>-</td>\n",
       "      <td>-</td>\n",
       "      <td>NaN</td>\n",
       "      <td>-</td>\n",
       "      <td>-</td>\n",
       "    </tr>\n",
       "    <tr>\n",
       "      <th>2</th>\n",
       "      <td>14.0</td>\n",
       "      <td>5452.7</td>\n",
       "      <td>ОПЛАЧЕНО</td>\n",
       "      <td>Петрова</td>\n",
       "      <td>новая</td>\n",
       "      <td>NaN</td>\n",
       "      <td>оригинал</td>\n",
       "      <td>2021-07-26 00:00:00</td>\n",
       "    </tr>\n",
       "    <tr>\n",
       "      <th>3</th>\n",
       "      <td>15.0</td>\n",
       "      <td>13991.7</td>\n",
       "      <td>ОПЛАЧЕНО</td>\n",
       "      <td>Иванов</td>\n",
       "      <td>текущая</td>\n",
       "      <td>NaN</td>\n",
       "      <td>оригинал</td>\n",
       "      <td>2021-06-08 00:00:00</td>\n",
       "    </tr>\n",
       "    <tr>\n",
       "      <th>4</th>\n",
       "      <td>16.0</td>\n",
       "      <td>719.7</td>\n",
       "      <td>ОПЛАЧЕНО</td>\n",
       "      <td>Иванов</td>\n",
       "      <td>текущая</td>\n",
       "      <td>NaN</td>\n",
       "      <td>оригинал</td>\n",
       "      <td>2021-06-08 00:00:00</td>\n",
       "    </tr>\n",
       "  </tbody>\n",
       "</table>\n",
       "</div>"
      ],
      "text/plain": [
       "   client_id      sum      status     sale new/current  Unnamed: 5  document  \\\n",
       "0        NaN      NaN    Май 2021      NaN         NaN         NaN       NaN   \n",
       "1        6.0  11693.7  ВНУТРЕННИЙ        -           -         NaN         -   \n",
       "2       14.0   5452.7    ОПЛАЧЕНО  Петрова       новая         NaN  оригинал   \n",
       "3       15.0  13991.7    ОПЛАЧЕНО   Иванов     текущая         NaN  оригинал   \n",
       "4       16.0    719.7    ОПЛАЧЕНО   Иванов     текущая         NaN  оригинал   \n",
       "\n",
       "        receiving_date  \n",
       "0                  NaN  \n",
       "1                    -  \n",
       "2  2021-07-26 00:00:00  \n",
       "3  2021-06-08 00:00:00  \n",
       "4  2021-06-08 00:00:00  "
      ]
     },
     "execution_count": 1,
     "metadata": {},
     "output_type": "execute_result"
    }
   ],
   "source": [
    "# Загрузим данные и взглянем на них\n",
    "import pandas as pd\n",
    "\n",
    "data = pd.read_excel('data.xlsx')\n",
    "data.head()"
   ]
  },
  {
   "cell_type": "code",
   "execution_count": 2,
   "id": "7991eebe-0040-419b-910b-82c9e0ca6841",
   "metadata": {},
   "outputs": [
    {
     "data": {
      "text/plain": [
       "client_id           6\n",
       "sum                 6\n",
       "status              0\n",
       "sale                6\n",
       "new/current         6\n",
       "document           21\n",
       "receiving_date    123\n",
       "dtype: int64"
      ]
     },
     "execution_count": 2,
     "metadata": {},
     "output_type": "execute_result"
    }
   ],
   "source": [
    "# Удалим колонку с пропущенными значениями\n",
    "data = data.drop(columns=['Unnamed: 5'])\n",
    "data.isna().sum()"
   ]
  },
  {
   "cell_type": "code",
   "execution_count": 3,
   "id": "825cfef2-1de0-4164-85d4-ab28c824a45f",
   "metadata": {},
   "outputs": [
    {
     "data": {
      "text/plain": [
       "(730, 7)"
      ]
     },
     "execution_count": 3,
     "metadata": {},
     "output_type": "execute_result"
    }
   ],
   "source": [
    "# Посмотрим на размер таблицы\n",
    "data.shape"
   ]
  },
  {
   "cell_type": "code",
   "execution_count": 4,
   "id": "e2a60f7b-126e-41b9-877d-a6b16b1cd46e",
   "metadata": {},
   "outputs": [
    {
     "data": {
      "text/plain": [
       "client_id         float64\n",
       "sum               float64\n",
       "status             object\n",
       "sale               object\n",
       "new/current        object\n",
       "document           object\n",
       "receiving_date     object\n",
       "dtype: object"
      ]
     },
     "execution_count": 4,
     "metadata": {},
     "output_type": "execute_result"
    }
   ],
   "source": [
    "# На типы колонок\n",
    "data.dtypes"
   ]
  },
  {
   "cell_type": "code",
   "execution_count": 5,
   "id": "814ef999-40c0-44ba-8e97-9d351adcd7e0",
   "metadata": {},
   "outputs": [
    {
     "data": {
      "text/plain": [
       "client_id                float64\n",
       "sum                      float64\n",
       "status                    object\n",
       "sale                      object\n",
       "new/current               object\n",
       "document                  object\n",
       "receiving_date    datetime64[ns]\n",
       "dtype: object"
      ]
     },
     "execution_count": 5,
     "metadata": {},
     "output_type": "execute_result"
    }
   ],
   "source": [
    "# Переведем receiving_date в тип datetime\n",
    "data['receiving_date'] = pd.to_datetime(data.receiving_date, format='%Y-%m-%d %H:%M:%S', errors='coerce')\n",
    "data.dtypes"
   ]
  },
  {
   "cell_type": "code",
   "execution_count": 6,
   "id": "674ad4ea-72d9-4639-a20d-7e5ad7c6c8f6",
   "metadata": {},
   "outputs": [
    {
     "data": {
      "text/plain": [
       "status\n",
       "ОПЛАЧЕНО         622\n",
       "ПРОСРОЧЕНО        52\n",
       "В РАБОТЕ          44\n",
       "НА ПОДПИСАНИИ      5\n",
       "Май 2021           1\n",
       "ВНУТРЕННИЙ         1\n",
       "Июнь 2021          1\n",
       "Июль 2021          1\n",
       "Август 2021        1\n",
       "Сентябрь 2021      1\n",
       "Октябрь 2021       1\n",
       "Name: count, dtype: int64"
      ]
     },
     "execution_count": 6,
     "metadata": {},
     "output_type": "execute_result"
    }
   ],
   "source": [
    "# Создадим колонку с месяцем сделок. Для начала посмотрим на значения колонки статус\n",
    "data.status.value_counts()"
   ]
  },
  {
   "cell_type": "code",
   "execution_count": 7,
   "id": "629a589d-9dfe-470c-968b-82656c3d6958",
   "metadata": {},
   "outputs": [
    {
     "data": {
      "text/html": [
       "<div>\n",
       "<style scoped>\n",
       "    .dataframe tbody tr th:only-of-type {\n",
       "        vertical-align: middle;\n",
       "    }\n",
       "\n",
       "    .dataframe tbody tr th {\n",
       "        vertical-align: top;\n",
       "    }\n",
       "\n",
       "    .dataframe thead th {\n",
       "        text-align: right;\n",
       "    }\n",
       "</style>\n",
       "<table border=\"1\" class=\"dataframe\">\n",
       "  <thead>\n",
       "    <tr style=\"text-align: right;\">\n",
       "      <th></th>\n",
       "      <th>client_id</th>\n",
       "      <th>sum</th>\n",
       "      <th>status</th>\n",
       "      <th>sale</th>\n",
       "      <th>new/current</th>\n",
       "      <th>document</th>\n",
       "      <th>receiving_date</th>\n",
       "    </tr>\n",
       "  </thead>\n",
       "  <tbody>\n",
       "    <tr>\n",
       "      <th>0</th>\n",
       "      <td>NaN</td>\n",
       "      <td>NaN</td>\n",
       "      <td>Май 2021</td>\n",
       "      <td>NaN</td>\n",
       "      <td>NaN</td>\n",
       "      <td>NaN</td>\n",
       "      <td>NaT</td>\n",
       "    </tr>\n",
       "    <tr>\n",
       "      <th>129</th>\n",
       "      <td>NaN</td>\n",
       "      <td>NaN</td>\n",
       "      <td>Июнь 2021</td>\n",
       "      <td>NaN</td>\n",
       "      <td>NaN</td>\n",
       "      <td>NaN</td>\n",
       "      <td>NaT</td>\n",
       "    </tr>\n",
       "    <tr>\n",
       "      <th>258</th>\n",
       "      <td>NaN</td>\n",
       "      <td>NaN</td>\n",
       "      <td>Июль 2021</td>\n",
       "      <td>NaN</td>\n",
       "      <td>NaN</td>\n",
       "      <td>NaN</td>\n",
       "      <td>NaT</td>\n",
       "    </tr>\n",
       "    <tr>\n",
       "      <th>369</th>\n",
       "      <td>NaN</td>\n",
       "      <td>NaN</td>\n",
       "      <td>Август 2021</td>\n",
       "      <td>NaN</td>\n",
       "      <td>NaN</td>\n",
       "      <td>NaN</td>\n",
       "      <td>NaT</td>\n",
       "    </tr>\n",
       "    <tr>\n",
       "      <th>484</th>\n",
       "      <td>NaN</td>\n",
       "      <td>NaN</td>\n",
       "      <td>Сентябрь 2021</td>\n",
       "      <td>NaN</td>\n",
       "      <td>NaN</td>\n",
       "      <td>NaN</td>\n",
       "      <td>NaT</td>\n",
       "    </tr>\n",
       "    <tr>\n",
       "      <th>594</th>\n",
       "      <td>NaN</td>\n",
       "      <td>NaN</td>\n",
       "      <td>Октябрь 2021</td>\n",
       "      <td>NaN</td>\n",
       "      <td>NaN</td>\n",
       "      <td>NaN</td>\n",
       "      <td>NaT</td>\n",
       "    </tr>\n",
       "  </tbody>\n",
       "</table>\n",
       "</div>"
      ],
      "text/plain": [
       "     client_id  sum         status sale new/current document receiving_date\n",
       "0          NaN  NaN       Май 2021  NaN         NaN      NaN            NaT\n",
       "129        NaN  NaN      Июнь 2021  NaN         NaN      NaN            NaT\n",
       "258        NaN  NaN      Июль 2021  NaN         NaN      NaN            NaT\n",
       "369        NaN  NaN    Август 2021  NaN         NaN      NaN            NaT\n",
       "484        NaN  NaN  Сентябрь 2021  NaN         NaN      NaN            NaT\n",
       "594        NaN  NaN   Октябрь 2021  NaN         NaN      NaN            NaT"
      ]
     },
     "execution_count": 7,
     "metadata": {},
     "output_type": "execute_result"
    }
   ],
   "source": [
    "# Итак, нам нужны строки с месяцами 2021 года\n",
    "data.query('status not in [\"ОПЛАЧЕНО\",\"ПРОСРОЧЕНО\",\"В РАБОТЕ\",\"НА ПОДПИСАНИИ\",\"ВНУТРЕННИЙ\"]')"
   ]
  },
  {
   "cell_type": "code",
   "execution_count": 8,
   "id": "77676033-6c16-40ed-8b15-9fa5a4d1001b",
   "metadata": {},
   "outputs": [],
   "source": [
    "# Создадим колонку\n",
    "for i in range(730):\n",
    "    if i <= 128:\n",
    "        data.loc[i, \"transaction_date\"] = 'Май 2021'\n",
    "    elif (i > 128) and (i <= 257):\n",
    "        data.loc[i, \"transaction_date\"] = 'Июнь 2021'\n",
    "    elif (i > 257) and (i <= 368):\n",
    "        data.loc[i, \"transaction_date\"] = 'Июль 2021'\n",
    "    elif (i > 368) and (i <= 483):\n",
    "        data.loc[i, \"transaction_date\"] = 'Август 2021'\n",
    "    elif (i > 483) and (i <= 593):\n",
    "        data.loc[i, \"transaction_date\"] = 'Сентябрь 2021'\n",
    "    elif (i > 593) and (i <= 729):\n",
    "        data.loc[i, \"transaction_date\"] = 'Октябрь 2021'\n",
    "    else:\n",
    "        data.loc[i, \"transaction_date\"] = None"
   ]
  },
  {
   "cell_type": "code",
   "execution_count": 9,
   "id": "2e9e7785-5afe-4261-888b-6350a39477fb",
   "metadata": {},
   "outputs": [],
   "source": [
    "# Дропнем строки, где sum значения Na\n",
    "data = data[data['sum'].notna()]"
   ]
  },
  {
   "cell_type": "code",
   "execution_count": 10,
   "id": "958e1870-d8cf-4c38-8eea-cd506bbc1dfe",
   "metadata": {},
   "outputs": [
    {
     "data": {
      "text/html": [
       "<div>\n",
       "<style scoped>\n",
       "    .dataframe tbody tr th:only-of-type {\n",
       "        vertical-align: middle;\n",
       "    }\n",
       "\n",
       "    .dataframe tbody tr th {\n",
       "        vertical-align: top;\n",
       "    }\n",
       "\n",
       "    .dataframe thead th {\n",
       "        text-align: right;\n",
       "    }\n",
       "</style>\n",
       "<table border=\"1\" class=\"dataframe\">\n",
       "  <thead>\n",
       "    <tr style=\"text-align: right;\">\n",
       "      <th></th>\n",
       "      <th>client_id</th>\n",
       "      <th>sum</th>\n",
       "      <th>status</th>\n",
       "      <th>sale</th>\n",
       "      <th>new/current</th>\n",
       "      <th>document</th>\n",
       "      <th>receiving_date</th>\n",
       "      <th>transaction_date</th>\n",
       "    </tr>\n",
       "  </thead>\n",
       "  <tbody>\n",
       "    <tr>\n",
       "      <th>1</th>\n",
       "      <td>6.0</td>\n",
       "      <td>11693.7</td>\n",
       "      <td>ВНУТРЕННИЙ</td>\n",
       "      <td>-</td>\n",
       "      <td>-</td>\n",
       "      <td>-</td>\n",
       "      <td>NaT</td>\n",
       "      <td>Май 2021</td>\n",
       "    </tr>\n",
       "    <tr>\n",
       "      <th>2</th>\n",
       "      <td>14.0</td>\n",
       "      <td>5452.7</td>\n",
       "      <td>ОПЛАЧЕНО</td>\n",
       "      <td>Петрова</td>\n",
       "      <td>новая</td>\n",
       "      <td>оригинал</td>\n",
       "      <td>2021-07-26</td>\n",
       "      <td>Май 2021</td>\n",
       "    </tr>\n",
       "    <tr>\n",
       "      <th>3</th>\n",
       "      <td>15.0</td>\n",
       "      <td>13991.7</td>\n",
       "      <td>ОПЛАЧЕНО</td>\n",
       "      <td>Иванов</td>\n",
       "      <td>текущая</td>\n",
       "      <td>оригинал</td>\n",
       "      <td>2021-06-08</td>\n",
       "      <td>Май 2021</td>\n",
       "    </tr>\n",
       "    <tr>\n",
       "      <th>4</th>\n",
       "      <td>16.0</td>\n",
       "      <td>719.7</td>\n",
       "      <td>ОПЛАЧЕНО</td>\n",
       "      <td>Иванов</td>\n",
       "      <td>текущая</td>\n",
       "      <td>оригинал</td>\n",
       "      <td>2021-06-08</td>\n",
       "      <td>Май 2021</td>\n",
       "    </tr>\n",
       "    <tr>\n",
       "      <th>5</th>\n",
       "      <td>18.0</td>\n",
       "      <td>4253.7</td>\n",
       "      <td>ОПЛАЧЕНО</td>\n",
       "      <td>Иванов</td>\n",
       "      <td>текущая</td>\n",
       "      <td>оригинал</td>\n",
       "      <td>2021-07-07</td>\n",
       "      <td>Май 2021</td>\n",
       "    </tr>\n",
       "  </tbody>\n",
       "</table>\n",
       "</div>"
      ],
      "text/plain": [
       "   client_id      sum      status     sale new/current  document  \\\n",
       "1        6.0  11693.7  ВНУТРЕННИЙ        -           -         -   \n",
       "2       14.0   5452.7    ОПЛАЧЕНО  Петрова       новая  оригинал   \n",
       "3       15.0  13991.7    ОПЛАЧЕНО   Иванов     текущая  оригинал   \n",
       "4       16.0    719.7    ОПЛАЧЕНО   Иванов     текущая  оригинал   \n",
       "5       18.0   4253.7    ОПЛАЧЕНО   Иванов     текущая  оригинал   \n",
       "\n",
       "  receiving_date transaction_date  \n",
       "1            NaT         Май 2021  \n",
       "2     2021-07-26         Май 2021  \n",
       "3     2021-06-08         Май 2021  \n",
       "4     2021-06-08         Май 2021  \n",
       "5     2021-07-07         Май 2021  "
      ]
     },
     "execution_count": 10,
     "metadata": {},
     "output_type": "execute_result"
    }
   ],
   "source": [
    "# Проверим таблицу\n",
    "data.head()"
   ]
  },
  {
   "cell_type": "code",
   "execution_count": 11,
   "id": "02d73347-2923-4ad0-a404-342a88401d06",
   "metadata": {},
   "outputs": [
    {
     "data": {
      "text/plain": [
       "(724, 8)"
      ]
     },
     "execution_count": 11,
     "metadata": {},
     "output_type": "execute_result"
    }
   ],
   "source": [
    "data.shape"
   ]
  },
  {
   "cell_type": "code",
   "execution_count": 12,
   "id": "eafde293-9364-4983-83c2-f3068333dfa5",
   "metadata": {},
   "outputs": [],
   "source": [
    "# Отлично, посмотрим на вопросы"
   ]
  },
  {
   "cell_type": "markdown",
   "id": "bb80fa87-8f2f-401f-a564-54ef1a434ec7",
   "metadata": {},
   "source": [
    "---"
   ]
  },
  {
   "cell_type": "markdown",
   "id": "d1815abc-d3bf-41e4-8a2c-762859a5d3e1",
   "metadata": {},
   "source": [
    "### Вопросы\n",
    "*1) Вычислите общую выручку за июль 2021 по тем сделкам, приход денежных средств которых не просрочен.*"
   ]
  },
  {
   "cell_type": "code",
   "execution_count": 13,
   "id": "a3878891-34c4-412f-95d8-9c1c39674128",
   "metadata": {},
   "outputs": [
    {
     "data": {
      "text/plain": [
       "859896.4699999997"
      ]
     },
     "execution_count": 13,
     "metadata": {},
     "output_type": "execute_result"
    }
   ],
   "source": [
    "# Отберем данные по году и месяцу, просуммируем выручку с условием того, что приход не просрочен\n",
    "data[(data['transaction_date'] == 'Июль 2021')].query('status != \"ПРОСРОЧЕНО\"')['sum'].sum()"
   ]
  },
  {
   "cell_type": "code",
   "execution_count": 14,
   "id": "b15b423d-ea11-4392-a801-62ae39b423ea",
   "metadata": {},
   "outputs": [
    {
     "data": {
      "text/plain": [
       "859896.47"
      ]
     },
     "execution_count": 14,
     "metadata": {},
     "output_type": "execute_result"
    }
   ],
   "source": [
    "# Занесем результат в переменную и округлим до двух чисел после запятой\n",
    "revenue_by_july_2021 = round(data[(data['transaction_date'] == 'Июль 2021')].query('status != \"ПРОСРОЧЕНО\"')['sum'].sum(), 2)\n",
    "revenue_by_july_2021"
   ]
  },
  {
   "cell_type": "markdown",
   "id": "1d9f065d-b5b4-4443-9fd8-e2d657ca000f",
   "metadata": {},
   "source": [
    "*2) Как изменялась выручка компании за рассматриваемый период? Проиллюстрируйте графиком.*"
   ]
  },
  {
   "cell_type": "code",
   "execution_count": 15,
   "id": "f3a9f8b6-b83a-4d50-9170-f207f72ca8e0",
   "metadata": {},
   "outputs": [
    {
     "data": {
      "text/plain": [
       "<Axes: xlabel='transaction_date', ylabel='sum'>"
      ]
     },
     "execution_count": 15,
     "metadata": {},
     "output_type": "execute_result"
    },
    {
     "data": {
      "image/png": "[encoded data removed]",
      "text/plain": [
       "<Figure size 640x480 with 1 Axes>"
      ]
     },
     "metadata": {},
     "output_type": "display_data"
    }
   ],
   "source": [
    "# Импортируем библиотеку для визуализации и построим первоначальный график\n",
    "import seaborn as sns\n",
    "import matplotlib.pyplot as plt \n",
    "\n",
    "sns.lineplot(data=data, x='transaction_date', y='sum', errorbar=None)"
   ]
  },
  {
   "cell_type": "code",
   "execution_count": 16,
   "id": "9ba7b949-f3dc-454d-8374-f7241b4eeeac",
   "metadata": {},
   "outputs": [
    {
     "data": {
      "image/png": "[encoded data removed]",
      "text/plain": [
       "<Figure size 1200x600 with 1 Axes>"
      ]
     },
     "metadata": {},
     "output_type": "display_data"
    }
   ],
   "source": [
    "# Модернизируем график и приведем более валидные данные\n",
    "valid_data_for_plot = data[(data['status'] == 'ОПЛАЧЕНО') & \n",
    "                           (data['sum'].notnull()) &\n",
    "                           (data['transaction_date'].notnull())]\n",
    "\n",
    "plt.figure(figsize=(12, 6))\n",
    "sns.lineplot(data=valid_data_for_plot, x='transaction_date', y='sum', errorbar=None)\n",
    "plt.title('Выручка компании')\n",
    "plt.xlabel('Дата')\n",
    "plt.ylabel('Выручка')\n",
    "plt.grid(True)\n",
    "plt.show()"
   ]
  },
  {
   "cell_type": "markdown",
   "id": "c330086c-edb9-4eab-80a4-502c134633b8",
   "metadata": {},
   "source": [
    "*3) Кто из менеджеров привлек для компании больше всего денежных средств в сентябре 2021?*"
   ]
  },
  {
   "cell_type": "code",
   "execution_count": 17,
   "id": "2c8cd607-5f56-469b-971b-5455a24c081e",
   "metadata": {},
   "outputs": [
    {
     "data": {
      "text/html": [
       "<div>\n",
       "<style scoped>\n",
       "    .dataframe tbody tr th:only-of-type {\n",
       "        vertical-align: middle;\n",
       "    }\n",
       "\n",
       "    .dataframe tbody tr th {\n",
       "        vertical-align: top;\n",
       "    }\n",
       "\n",
       "    .dataframe thead th {\n",
       "        text-align: right;\n",
       "    }\n",
       "</style>\n",
       "<table border=\"1\" class=\"dataframe\">\n",
       "  <thead>\n",
       "    <tr style=\"text-align: right;\">\n",
       "      <th></th>\n",
       "      <th>sale</th>\n",
       "      <th>sum</th>\n",
       "    </tr>\n",
       "  </thead>\n",
       "  <tbody>\n",
       "    <tr>\n",
       "      <th>6</th>\n",
       "      <td>Смирнов</td>\n",
       "      <td>205258.3</td>\n",
       "    </tr>\n",
       "  </tbody>\n",
       "</table>\n",
       "</div>"
      ],
      "text/plain": [
       "      sale       sum\n",
       "6  Смирнов  205258.3"
      ]
     },
     "execution_count": 17,
     "metadata": {},
     "output_type": "execute_result"
    }
   ],
   "source": [
    "# Сгруппируем данные по менеджерам, посчитав их выручку за сентябрь 2021 (будем считать только прошедшие оплату сделки)\n",
    "most_profit_manager_september_2021 = data[(data['transaction_date']  == 'Сентябрь 2021') &\n",
    "                                          ((data['status'] == 'ОПЛАЧЕНО'))] \\\n",
    "                                          .groupby('sale', as_index=False) \\\n",
    "                                          .agg({'sum':'sum'}) \\\n",
    "                                          .sort_values('sum', ascending=False).head(1)\n",
    "most_profit_manager_september_2021"
   ]
  },
  {
   "cell_type": "markdown",
   "id": "3625fac3-6270-4a6f-8eca-03b1f96ea34f",
   "metadata": {},
   "source": [
    "*4) Какой тип сделок (новая/текущая) был преобладающим в октябре 2021?*"
   ]
  },
  {
   "cell_type": "code",
   "execution_count": 18,
   "id": "cc1331e5-8b05-44fc-85a7-0cbd4311696d",
   "metadata": {},
   "outputs": [
    {
     "data": {
      "text/html": [
       "<div>\n",
       "<style scoped>\n",
       "    .dataframe tbody tr th:only-of-type {\n",
       "        vertical-align: middle;\n",
       "    }\n",
       "\n",
       "    .dataframe tbody tr th {\n",
       "        vertical-align: top;\n",
       "    }\n",
       "\n",
       "    .dataframe thead th {\n",
       "        text-align: right;\n",
       "    }\n",
       "</style>\n",
       "<table border=\"1\" class=\"dataframe\">\n",
       "  <thead>\n",
       "    <tr style=\"text-align: right;\">\n",
       "      <th></th>\n",
       "      <th>new/current</th>\n",
       "      <th>sum</th>\n",
       "    </tr>\n",
       "  </thead>\n",
       "  <tbody>\n",
       "    <tr>\n",
       "      <th>1</th>\n",
       "      <td>текущая</td>\n",
       "      <td>99</td>\n",
       "    </tr>\n",
       "  </tbody>\n",
       "</table>\n",
       "</div>"
      ],
      "text/plain": [
       "  new/current  sum\n",
       "1     текущая   99"
      ]
     },
     "execution_count": 18,
     "metadata": {},
     "output_type": "execute_result"
    }
   ],
   "source": [
    "# Сгруппируем данные по типу сделок, посчитаем для каждого типа количество октябрь 2021\n",
    "prevailing_type_of_transactions_october_2021 = data[data['transaction_date'] == 'Октябрь 2021'] \\\n",
    "                                                    .groupby('new/current', as_index=False) \\\n",
    "                                                    .agg({'sum':'count'}) \\\n",
    "                                                    .sort_values('sum', ascending=False).head(1)\n",
    "prevailing_type_of_transactions_october_2021"
   ]
  },
  {
   "cell_type": "markdown",
   "id": "bd062959-7ff3-4ddd-ada1-1f81c7267033",
   "metadata": {},
   "source": [
    "*5) Сколько оригиналов договора по майским сделкам было получено в июне 2021?*"
   ]
  },
  {
   "cell_type": "code",
   "execution_count": 19,
   "id": "0e2cd3ac-8c8d-48b0-a957-36c022db80e1",
   "metadata": {},
   "outputs": [
    {
     "data": {
      "text/plain": [
       "76"
      ]
     },
     "execution_count": 19,
     "metadata": {},
     "output_type": "execute_result"
    }
   ],
   "source": [
    "# Посчитаем договоа в мае, отберем по receiving_date июнь и \"проверим документ на оригинальность\"\n",
    "may_deals_received__june = data[(data['transaction_date'] == 'Май 2021') &\n",
    "                                (data['receiving_date'].dt.to_period('M') == '2021-06') &\n",
    "                                (data['document'] == 'оригинал')].shape[0]\n",
    "may_deals_received__june"
   ]
  },
  {
   "cell_type": "markdown",
   "id": "d1413886-668e-4a1d-bd6b-67fcd9a38478",
   "metadata": {},
   "source": [
    "---"
   ]
  },
  {
   "cell_type": "markdown",
   "id": "3a265d62-a4de-4b63-8b45-2eff83ce5506",
   "metadata": {},
   "source": [
    "### Задание"
   ]
  },
  {
   "cell_type": "markdown",
   "id": "dcb69ad9-c054-4141-8ee6-c3dd76df374e",
   "metadata": {},
   "source": [
    "За каждую заключенную сделку менеджер получает бонус, который рассчитывается следующим образом.\n",
    "\n",
    "    1) За новые сделки менеджер получает 7 % от суммы, при условии, что статус \n",
    "       оплаты «ОПЛАЧЕНО», а также имеется оригинал подписанного договора с \n",
    "       клиентом (в рассматриваемом месяце). \n",
    "    2) За текущие сделки менеджер получает 5 % от суммы, если она больше 10 тыс., \n",
    "       и 3 % от суммы, если меньше. При этом статус оплаты может быть любым, \n",
    "       кроме «ПРОСРОЧЕНО», а также необходимо наличие оригинала подписанного \n",
    "       договора с клиентом (в рассматриваемом месяце). \n",
    "\n",
    "Бонусы по сделкам, оригиналы для которых приходят позже рассматриваемого месяца, считаются остатком на следующий \n",
    "период, который выплачивается по мере прихода оригиналов. Вычислите остаток каждого из менеджеров на 01.07.2021."
   ]
  },
  {
   "cell_type": "code",
   "execution_count": 20,
   "id": "117332f2-f623-43f1-bd40-2ba3a7368e01",
   "metadata": {},
   "outputs": [
    {
     "data": {
      "text/html": [
       "<div>\n",
       "<style scoped>\n",
       "    .dataframe tbody tr th:only-of-type {\n",
       "        vertical-align: middle;\n",
       "    }\n",
       "\n",
       "    .dataframe tbody tr th {\n",
       "        vertical-align: top;\n",
       "    }\n",
       "\n",
       "    .dataframe thead th {\n",
       "        text-align: right;\n",
       "    }\n",
       "</style>\n",
       "<table border=\"1\" class=\"dataframe\">\n",
       "  <thead>\n",
       "    <tr style=\"text-align: right;\">\n",
       "      <th></th>\n",
       "      <th>index</th>\n",
       "      <th>client_id</th>\n",
       "      <th>sum</th>\n",
       "      <th>status</th>\n",
       "      <th>sale</th>\n",
       "      <th>new/current</th>\n",
       "      <th>document</th>\n",
       "      <th>receiving_date</th>\n",
       "      <th>transaction_date</th>\n",
       "      <th>has_original_in_month</th>\n",
       "    </tr>\n",
       "  </thead>\n",
       "  <tbody>\n",
       "    <tr>\n",
       "      <th>0</th>\n",
       "      <td>1</td>\n",
       "      <td>6.0</td>\n",
       "      <td>11693.7</td>\n",
       "      <td>ВНУТРЕННИЙ</td>\n",
       "      <td>-</td>\n",
       "      <td>-</td>\n",
       "      <td>-</td>\n",
       "      <td>NaT</td>\n",
       "      <td>Май 2021</td>\n",
       "      <td>NaN</td>\n",
       "    </tr>\n",
       "    <tr>\n",
       "      <th>1</th>\n",
       "      <td>2</td>\n",
       "      <td>14.0</td>\n",
       "      <td>5452.7</td>\n",
       "      <td>ОПЛАЧЕНО</td>\n",
       "      <td>Петрова</td>\n",
       "      <td>новая</td>\n",
       "      <td>оригинал</td>\n",
       "      <td>2021-07-26</td>\n",
       "      <td>Май 2021</td>\n",
       "      <td>False</td>\n",
       "    </tr>\n",
       "    <tr>\n",
       "      <th>2</th>\n",
       "      <td>3</td>\n",
       "      <td>15.0</td>\n",
       "      <td>13991.7</td>\n",
       "      <td>ОПЛАЧЕНО</td>\n",
       "      <td>Иванов</td>\n",
       "      <td>текущая</td>\n",
       "      <td>оригинал</td>\n",
       "      <td>2021-06-08</td>\n",
       "      <td>Май 2021</td>\n",
       "      <td>False</td>\n",
       "    </tr>\n",
       "    <tr>\n",
       "      <th>3</th>\n",
       "      <td>4</td>\n",
       "      <td>16.0</td>\n",
       "      <td>719.7</td>\n",
       "      <td>ОПЛАЧЕНО</td>\n",
       "      <td>Иванов</td>\n",
       "      <td>текущая</td>\n",
       "      <td>оригинал</td>\n",
       "      <td>2021-06-08</td>\n",
       "      <td>Май 2021</td>\n",
       "      <td>False</td>\n",
       "    </tr>\n",
       "    <tr>\n",
       "      <th>4</th>\n",
       "      <td>5</td>\n",
       "      <td>18.0</td>\n",
       "      <td>4253.7</td>\n",
       "      <td>ОПЛАЧЕНО</td>\n",
       "      <td>Иванов</td>\n",
       "      <td>текущая</td>\n",
       "      <td>оригинал</td>\n",
       "      <td>2021-07-07</td>\n",
       "      <td>Май 2021</td>\n",
       "      <td>False</td>\n",
       "    </tr>\n",
       "  </tbody>\n",
       "</table>\n",
       "</div>"
      ],
      "text/plain": [
       "   index  client_id      sum      status     sale new/current  document  \\\n",
       "0      1        6.0  11693.7  ВНУТРЕННИЙ        -           -         -   \n",
       "1      2       14.0   5452.7    ОПЛАЧЕНО  Петрова       новая  оригинал   \n",
       "2      3       15.0  13991.7    ОПЛАЧЕНО   Иванов     текущая  оригинал   \n",
       "3      4       16.0    719.7    ОПЛАЧЕНО   Иванов     текущая  оригинал   \n",
       "4      5       18.0   4253.7    ОПЛАЧЕНО   Иванов     текущая  оригинал   \n",
       "\n",
       "  receiving_date transaction_date has_original_in_month  \n",
       "0            NaT         Май 2021                   NaN  \n",
       "1     2021-07-26         Май 2021                 False  \n",
       "2     2021-06-08         Май 2021                 False  \n",
       "3     2021-06-08         Май 2021                 False  \n",
       "4     2021-07-07         Май 2021                 False  "
      ]
     },
     "execution_count": 20,
     "metadata": {},
     "output_type": "execute_result"
    }
   ],
   "source": [
    "# Добавим колонку, которая определяет был ли оригинал получен в том же месяце что и начало сделки\n",
    "data = data.reset_index()\n",
    "for i in range(1, data.shape[0]):\n",
    "    if (data.loc[i,'transaction_date'] == 'Май 2021')        & (str(data.loc[i,'receiving_date']).startswith('2021-05')):\n",
    "        data.loc[i, \"has_original_in_month\"] = True\n",
    "    elif (data.loc[i,'transaction_date'] == 'Июнь 2021')     & (str(data.loc[i,'receiving_date']).startswith('2021-06')):\n",
    "        data.loc[i, \"has_original_in_month\"] = True\n",
    "    elif (data.loc[i,'transaction_date'] == 'Июль 2021')     & (str(data.loc[i,'receiving_date']).startswith('2021-07')):\n",
    "        data.loc[i, \"has_original_in_month\"] = True\n",
    "    elif (data.loc[i,'transaction_date'] == 'Август 2021')   & (str(data.loc[i,'receiving_date']).startswith('2021-08')):\n",
    "        data.loc[i, \"has_original_in_month\"] = True\n",
    "    elif (data.loc[i,'transaction_date'] == 'Сентябрь 2021') & (str(data.loc[i,'receiving_date']).startswith('2021-09')):\n",
    "        data.loc[i, \"has_original_in_month\"] = True\n",
    "    elif (data.loc[i,'transaction_date'] == 'Октярбь 2021')  & (str(data.loc[i,'receiving_date']).startswith('2021-10')):\n",
    "        data.loc[i, \"has_original_in_month\"] = True\n",
    "    else:\n",
    "        data.loc[i, \"has_original_in_month\"] = False\n",
    "data.head()"
   ]
  },
  {
   "cell_type": "code",
   "execution_count": 21,
   "id": "1b5de1c7-86d7-4be5-b449-eeca84d67270",
   "metadata": {},
   "outputs": [
    {
     "data": {
      "text/plain": [
       "3"
      ]
     },
     "execution_count": 21,
     "metadata": {},
     "output_type": "execute_result"
    }
   ],
   "source": [
    "# Удалим старый индекс и посмотрим сколько всего было таких сделок:\n",
    "data = data.drop(columns=['index'])\n",
    "data.has_original_in_month.sum()"
   ]
  },
  {
   "cell_type": "code",
   "execution_count": 22,
   "id": "f4a7c8cb-c028-4438-937c-a7a88ab96269",
   "metadata": {},
   "outputs": [],
   "source": [
    "# Напишем функцию, высчитывающую остаток баланса бонусов для каждого менеджера\n",
    "def get_balance_sales_bonuses(df, date):\n",
    "    # Отберем колонки до определенной даты\n",
    "    df = df[df['receiving_date'] < date]\n",
    "\n",
    "    # Создадим словарь с сотрудниками и их остатком\n",
    "    balance_sales_bonuses = {}\n",
    "    for s in df.sale.unique():\n",
    "        balance_sales_bonuses[s] = 0\n",
    "        \n",
    "    df = df.reset_index()\n",
    "    for i in range(1, df.shape[0]):\n",
    "        if (df.loc[i, \"new/current\"] == 'новая') & (df.loc[i, \"status\"] == 'ОПЛАЧЕНО') & (df.loc[i, \"has_original_in_month\"] == True):\n",
    "            balance_sales_bonuses[str(df.loc[i, \"sale\"])] = 0   # 0 так как бонус уже должен быть выплачен, а нас интересует остаток\n",
    "        elif (df.loc[i, \"new/current\"] == 'текущая') & (df.loc[i, \"status\"] != 'ПРОСРОЧЕНО') & (df.loc[i, \"has_original_in_month\"] == True):\n",
    "            balance_sales_bonuses[str(df.loc[i, \"sale\"])] = 0   # В этом случае тоже обнуляем\n",
    "\n",
    "        elif (df.loc[i, \"new/current\"] == 'новая') & (df.loc[i, \"status\"] == 'ОПЛАЧЕНО') & (df.loc[i, \"has_original_in_month\"] == False):\n",
    "            balance_sales_bonuses[str(df.loc[i, \"sale\"])] += df.loc[i, \"sum\"]*0.07\n",
    "        elif (df.loc[i, \"new/current\"] == 'текущая') & (df.loc[i, \"status\"] != 'ПРОСРОЧЕНО') & (df.loc[i, \"has_original_in_month\"] == False):\n",
    "            if balance_sales_bonuses[str(df.loc[i, \"sale\"])] > 10000:\n",
    "                balance_sales_bonuses[str(df.loc[i, \"sale\"])] += df.loc[i, \"sum\"]*0.05\n",
    "            else:\n",
    "                balance_sales_bonuses[str(df.loc[i, \"sale\"])] += df.loc[i, \"sum\"]*0.03\n",
    "\n",
    "    return balance_sales_bonuses"
   ]
  },
  {
   "cell_type": "code",
   "execution_count": 23,
   "id": "de9dc650-fdb2-4bce-b71d-c0a8bec0ebf6",
   "metadata": {},
   "outputs": [
    {
     "data": {
      "text/plain": [
       "{'Иванов': 1303.566,\n",
       " 'Андреев': 887.1837,\n",
       " 'Филимонова': 191.06099999999998,\n",
       " 'Петрова': 5531.201999999999,\n",
       " 'Смирнов': 3419.341,\n",
       " 'Селиванов': 353.322,\n",
       " 'Кузнецова': 2604.6715999999997,\n",
       " 'Васильев': 339.231}"
      ]
     },
     "execution_count": 23,
     "metadata": {},
     "output_type": "execute_result"
    }
   ],
   "source": [
    "get_balance_sales_bonuses(data, '2021-07-01')"
   ]
  }
 ],
 "metadata": {
  "kernelspec": {
   "display_name": "Python 3 (ipykernel)",
   "language": "python",
   "name": "python3"
  },
  "language_info": {
   "codemirror_mode": {
    "name": "ipython",
    "version": 3
   },
   "file_extension": ".py",
   "mimetype": "text/x-python",
   "name": "python",
   "nbconvert_exporter": "python",
   "pygments_lexer": "ipython3",
   "version": "3.12.3"
  }
 },
 "nbformat": 4,
 "nbformat_minor": 5
}
